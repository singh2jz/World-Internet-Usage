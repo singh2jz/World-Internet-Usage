{
  "nbformat": 4,
  "nbformat_minor": 0,
  "metadata": {
    "colab": {
      "name": "Graphing_Exercise.ipynb",
      "provenance": [],
      "collapsed_sections": [],
      "mount_file_id": "1eWzjofUDO-vJAbGMgPakxp0XKD6YE5vs",
      "authorship_tag": "ABX9TyN6xZnP1GUK1UpC1TN8vuWW"
    },
    "kernelspec": {
      "name": "python3",
      "display_name": "Python 3"
    },
    "language_info": {
      "name": "python"
    }
  },
  "cells": [
    {
      "cell_type": "markdown",
      "metadata": {
        "id": "jqdllDZf7ePI"
      },
      "source": [
        "internet users per 100 people. Goal: get the world average for years provided. Create separate dataframe for USA and plot data from both to compare."
      ]
    },
    {
      "cell_type": "code",
      "metadata": {
        "id": "vqDRCh_K7XTt"
      },
      "source": [
        "import matplotlib.pyplot as plt\n",
        "import pandas as pd\n",
        "import numpy as np"
      ],
      "execution_count": 127,
      "outputs": []
    },
    {
      "cell_type": "code",
      "metadata": {
        "id": "gUt-THuk7-ea"
      },
      "source": [
        "df = pd.read_excel('/content/drive/MyDrive/Coding Dojo/Week 3/Data/Internet users per 100 ppl.xlsx')"
      ],
      "execution_count": 103,
      "outputs": []
    },
    {
      "cell_type": "code",
      "metadata": {
        "colab": {
          "base_uri": "https://localhost:8080/",
          "height": 204
        },
        "id": "szQsnQNi8E-m",
        "outputId": "5fa13107-75ee-4974-99de-dedb774dc677"
      },
      "source": [
        "df.head()"
      ],
      "execution_count": 104,
      "outputs": [
        {
          "output_type": "execute_result",
          "data": {
            "text/html": [
              "<div>\n",
              "<style scoped>\n",
              "    .dataframe tbody tr th:only-of-type {\n",
              "        vertical-align: middle;\n",
              "    }\n",
              "\n",
              "    .dataframe tbody tr th {\n",
              "        vertical-align: top;\n",
              "    }\n",
              "\n",
              "    .dataframe thead th {\n",
              "        text-align: right;\n",
              "    }\n",
              "</style>\n",
              "<table border=\"1\" class=\"dataframe\">\n",
              "  <thead>\n",
              "    <tr style=\"text-align: right;\">\n",
              "      <th></th>\n",
              "      <th>Country</th>\n",
              "      <th>Year</th>\n",
              "      <th>Internet users per 100 people</th>\n",
              "    </tr>\n",
              "  </thead>\n",
              "  <tbody>\n",
              "    <tr>\n",
              "      <th>0</th>\n",
              "      <td>Iceland</td>\n",
              "      <td>1990</td>\n",
              "      <td>0.000000</td>\n",
              "    </tr>\n",
              "    <tr>\n",
              "      <th>1</th>\n",
              "      <td>Luxembourg</td>\n",
              "      <td>1990</td>\n",
              "      <td>0.000000</td>\n",
              "    </tr>\n",
              "    <tr>\n",
              "      <th>2</th>\n",
              "      <td>Andorra</td>\n",
              "      <td>1990</td>\n",
              "      <td>0.000000</td>\n",
              "    </tr>\n",
              "    <tr>\n",
              "      <th>3</th>\n",
              "      <td>Norway</td>\n",
              "      <td>1990</td>\n",
              "      <td>0.707299</td>\n",
              "    </tr>\n",
              "    <tr>\n",
              "      <th>4</th>\n",
              "      <td>Liechtenstein</td>\n",
              "      <td>1990</td>\n",
              "      <td>0.000000</td>\n",
              "    </tr>\n",
              "  </tbody>\n",
              "</table>\n",
              "</div>"
            ],
            "text/plain": [
              "         Country  Year  Internet users per 100 people\n",
              "0        Iceland  1990                       0.000000\n",
              "1     Luxembourg  1990                       0.000000\n",
              "2        Andorra  1990                       0.000000\n",
              "3         Norway  1990                       0.707299\n",
              "4  Liechtenstein  1990                       0.000000"
            ]
          },
          "metadata": {
            "tags": []
          },
          "execution_count": 104
        }
      ]
    },
    {
      "cell_type": "code",
      "metadata": {
        "colab": {
          "base_uri": "https://localhost:8080/"
        },
        "id": "Jb4-MYvv8Gjy",
        "outputId": "6a7f186f-371f-46bb-a7e2-aeb792e72d54"
      },
      "source": [
        "df.info()"
      ],
      "execution_count": 105,
      "outputs": [
        {
          "output_type": "stream",
          "text": [
            "<class 'pandas.core.frame.DataFrame'>\n",
            "RangeIndex: 1764 entries, 0 to 1763\n",
            "Data columns (total 3 columns):\n",
            " #   Column                         Non-Null Count  Dtype  \n",
            "---  ------                         --------------  -----  \n",
            " 0   Country                        1764 non-null   object \n",
            " 1   Year                           1764 non-null   int64  \n",
            " 2   Internet users per 100 people  1717 non-null   float64\n",
            "dtypes: float64(1), int64(1), object(1)\n",
            "memory usage: 41.5+ KB\n"
          ],
          "name": "stdout"
        }
      ]
    },
    {
      "cell_type": "code",
      "metadata": {
        "colab": {
          "base_uri": "https://localhost:8080/"
        },
        "id": "vRrpJf_g8jti",
        "outputId": "909a5c23-8aad-4b60-d758-a43b93967d1b"
      },
      "source": [
        "df['Year'].value_counts()"
      ],
      "execution_count": 106,
      "outputs": [
        {
          "output_type": "execute_result",
          "data": {
            "text/plain": [
              "2015    196\n",
              "2014    196\n",
              "2013    196\n",
              "2012    196\n",
              "2011    196\n",
              "2010    196\n",
              "2005    196\n",
              "2000    196\n",
              "1990    196\n",
              "Name: Year, dtype: int64"
            ]
          },
          "metadata": {
            "tags": []
          },
          "execution_count": 106
        }
      ]
    },
    {
      "cell_type": "code",
      "metadata": {
        "colab": {
          "base_uri": "https://localhost:8080/",
          "height": 328
        },
        "id": "iBuG8rq8LB3O",
        "outputId": "d5ca8ac0-b176-43e0-cd60-3a7abe3671b3"
      },
      "source": [
        "usa_f = df['Country']==\"United States\"\n",
        "usa_df = df.loc[usa_f, :]\n",
        "usa_df"
      ],
      "execution_count": 118,
      "outputs": [
        {
          "output_type": "execute_result",
          "data": {
            "text/html": [
              "<div>\n",
              "<style scoped>\n",
              "    .dataframe tbody tr th:only-of-type {\n",
              "        vertical-align: middle;\n",
              "    }\n",
              "\n",
              "    .dataframe tbody tr th {\n",
              "        vertical-align: top;\n",
              "    }\n",
              "\n",
              "    .dataframe thead th {\n",
              "        text-align: right;\n",
              "    }\n",
              "</style>\n",
              "<table border=\"1\" class=\"dataframe\">\n",
              "  <thead>\n",
              "    <tr style=\"text-align: right;\">\n",
              "      <th></th>\n",
              "      <th>Country</th>\n",
              "      <th>Year</th>\n",
              "      <th>Internet users per 100 people</th>\n",
              "    </tr>\n",
              "  </thead>\n",
              "  <tbody>\n",
              "    <tr>\n",
              "      <th>40</th>\n",
              "      <td>United States</td>\n",
              "      <td>1990</td>\n",
              "      <td>0.784729</td>\n",
              "    </tr>\n",
              "    <tr>\n",
              "      <th>236</th>\n",
              "      <td>United States</td>\n",
              "      <td>2000</td>\n",
              "      <td>43.079163</td>\n",
              "    </tr>\n",
              "    <tr>\n",
              "      <th>432</th>\n",
              "      <td>United States</td>\n",
              "      <td>2005</td>\n",
              "      <td>67.968053</td>\n",
              "    </tr>\n",
              "    <tr>\n",
              "      <th>628</th>\n",
              "      <td>United States</td>\n",
              "      <td>2010</td>\n",
              "      <td>71.690000</td>\n",
              "    </tr>\n",
              "    <tr>\n",
              "      <th>824</th>\n",
              "      <td>United States</td>\n",
              "      <td>2011</td>\n",
              "      <td>69.729461</td>\n",
              "    </tr>\n",
              "    <tr>\n",
              "      <th>1020</th>\n",
              "      <td>United States</td>\n",
              "      <td>2012</td>\n",
              "      <td>74.700000</td>\n",
              "    </tr>\n",
              "    <tr>\n",
              "      <th>1216</th>\n",
              "      <td>United States</td>\n",
              "      <td>2013</td>\n",
              "      <td>71.400000</td>\n",
              "    </tr>\n",
              "    <tr>\n",
              "      <th>1412</th>\n",
              "      <td>United States</td>\n",
              "      <td>2014</td>\n",
              "      <td>73.000000</td>\n",
              "    </tr>\n",
              "    <tr>\n",
              "      <th>1608</th>\n",
              "      <td>United States</td>\n",
              "      <td>2015</td>\n",
              "      <td>74.550000</td>\n",
              "    </tr>\n",
              "  </tbody>\n",
              "</table>\n",
              "</div>"
            ],
            "text/plain": [
              "            Country  Year  Internet users per 100 people\n",
              "40    United States  1990                       0.784729\n",
              "236   United States  2000                      43.079163\n",
              "432   United States  2005                      67.968053\n",
              "628   United States  2010                      71.690000\n",
              "824   United States  2011                      69.729461\n",
              "1020  United States  2012                      74.700000\n",
              "1216  United States  2013                      71.400000\n",
              "1412  United States  2014                      73.000000\n",
              "1608  United States  2015                      74.550000"
            ]
          },
          "metadata": {
            "tags": []
          },
          "execution_count": 118
        }
      ]
    },
    {
      "cell_type": "code",
      "metadata": {
        "id": "2qzgY6yJL93Y"
      },
      "source": [
        "df = df[df.Country != 'United States']"
      ],
      "execution_count": 121,
      "outputs": []
    },
    {
      "cell_type": "code",
      "metadata": {
        "colab": {
          "base_uri": "https://localhost:8080/"
        },
        "id": "ujjjd4iJ8bh8",
        "outputId": "dbb8f1d8-5749-4cfb-923f-ace90edc4d18"
      },
      "source": [
        "new_df = df.groupby('Year')[['Internet users per 100 people']].mean()\n",
        "new_df.index"
      ],
      "execution_count": 136,
      "outputs": [
        {
          "output_type": "execute_result",
          "data": {
            "text/plain": [
              "Int64Index([1990, 2000, 2005, 2010, 2011, 2012, 2013, 2014, 2015], dtype='int64', name='Year')"
            ]
          },
          "metadata": {
            "tags": []
          },
          "execution_count": 136
        }
      ]
    },
    {
      "cell_type": "code",
      "metadata": {
        "colab": {
          "base_uri": "https://localhost:8080/",
          "height": 319
        },
        "id": "jLEaEhNiOiLB",
        "outputId": "08f8cd28-320f-494c-943d-29bdb5d76e66"
      },
      "source": [
        "plt.plot(usa_df['Year'], usa_df['Internet users per 100 people'], c = 'k', marker = '.', markersize = 10, label = 'United States')\n",
        "plt.plot(new_df.index, new_df['Internet users per 100 people'], c = 'b', marker = '.', markersize = 10, label = 'World Average')\n",
        "plt.grid()\n",
        "plt.xlim(left=1990, right=2016)\n",
        "plt.ylim(bottom=0, top=80)\n",
        "plt.xlabel('Year', fontsize = 15)\n",
        "plt.ylabel('Internet users per 100 people', fontsize = 15)\n",
        "plt.title('United States and The World', fontsize = 15)\n",
        "plt.legend(loc = 'lower right')"
      ],
      "execution_count": 147,
      "outputs": [
        {
          "output_type": "execute_result",
          "data": {
            "text/plain": [
              "<matplotlib.legend.Legend at 0x7f841a0fde10>"
            ]
          },
          "metadata": {
            "tags": []
          },
          "execution_count": 147
        },
        {
          "output_type": "display_data",
          "data": {
            "image/png": "[encoded data removed]",
            "text/plain": [
              "<Figure size 432x288 with 1 Axes>"
            ]
          },
          "metadata": {
            "tags": [],
            "needs_background": "light"
          }
        }
      ]
    },
    {
      "cell_type": "code",
      "metadata": {
        "id": "o230sOJVQhFd"
      },
      "source": [
        ""
      ],
      "execution_count": null,
      "outputs": []
    }
  ]
}
